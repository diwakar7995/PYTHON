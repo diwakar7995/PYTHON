{
 "cells": [
  {
   "cell_type": "code",
   "execution_count": 1,
   "metadata": {},
   "outputs": [
    {
     "name": "stdout",
     "output_type": "stream",
     "text": [
      "{1: 'a', 2: 'b', 3: 'c', 4: 'd', 5: 'e', 6: 'f', 7: 'g', 8: 'h'}\n"
     ]
    }
   ],
   "source": [
    "#concate two dictionaries\n",
    "dict1={1:'a',2:'b',3:'c',4:'d'}\n",
    "dict2={5:'e',6:'f',7:'g',8:'h'}\n",
    "dict1.update(dict2)\n",
    "print(dict1)"
   ]
  },
  {
   "cell_type": "code",
   "execution_count": 4,
   "metadata": {},
   "outputs": [
    {
     "name": "stdout",
     "output_type": "stream",
     "text": [
      "enter key and values:\n",
      "Enter done twice to stop\n",
      "enter key:a\n",
      "enter value:1\n",
      "enter key:b\n",
      "enter value:2\n",
      "enter key:c4\n",
      "enter value:4\n",
      "enter key:d\n",
      "enter value:5\n",
      "enter key:done\n",
      "enter value:done\n",
      "before removing the item the dictionary is: {'a': '1', 'b': '2', 'c4': '4', 'd': '5'}\n",
      "Eenter done to stop entering key:\n",
      "enter key element of item to be deleted:b\n",
      "enter key element of item to be deleted:c4\n",
      "enter key element of item to be deleted:done\n",
      "after removing the items the dictionary is: {'a': '1', 'd': '5'}\n"
     ]
    }
   ],
   "source": [
    "#To remove items from the dictionary\n",
    "dict1={}\n",
    "print(\"enter key and values:\")\n",
    "print('Enter done twice to stop')\n",
    "while True:\n",
    "    key=input('enter key:')\n",
    "    value=input('enter value:')\n",
    "    if key=='done' or value=='done':\n",
    "        break\n",
    "    dict1[key]=value\n",
    "    \n",
    "print(\"before removing the item the dictionary is:\",dict1)\n",
    "print('Eenter done to stop entering key:')\n",
    "while True:\n",
    "    key=input('enter key element of item to be deleted:')\n",
    "    if key=='done':\n",
    "        break\n",
    "    del dict1[key]\n",
    "print(\"after removing the items the dictionary is:\",dict1)"
   ]
  },
  {
   "cell_type": "code",
   "execution_count": 5,
   "metadata": {},
   "outputs": [
    {
     "name": "stdout",
     "output_type": "stream",
     "text": [
      "enter key and values:\n",
      "Enter done twice to stop\n",
      "enter key:a\n",
      "enter value:1\n",
      "enter key:b\n",
      "enter value:2\n",
      "enter key:c\n",
      "enter value:3\n",
      "enter key:g\n",
      "enter value:5\n",
      "enter key:h\n",
      "enter value:6\n",
      "enter key:done\n",
      "enter value:done\n",
      "enter key element to be accessed:h\n",
      "element is  6\n"
     ]
    }
   ],
   "source": [
    "#To demonstrate accessing an element from a Dictionary\n",
    "dict1={}\n",
    "print(\"enter key and values:\")\n",
    "print('Enter done twice to stop')\n",
    "while True:\n",
    "    key=input('enter key:')\n",
    "    value=input('enter value:')\n",
    "    if key=='done' or value=='done':\n",
    "        break\n",
    "    dict1[key]=value\n",
    "key1=input('enter key element to be accessed:')\n",
    "if key1 in dict1:\n",
    "    print('element is ',dict1[key1])\n",
    "else:\n",
    "    print('element not found')"
   ]
  },
  {
   "cell_type": "code",
   "execution_count": 7,
   "metadata": {},
   "outputs": [
    {
     "name": "stdout",
     "output_type": "stream",
     "text": [
      "length of dict1 is 4\n"
     ]
    }
   ],
   "source": [
    "#To find the length of a dictionary\n",
    "dict1={1:'a',2:'e',3:'i',4:'o'}\n",
    "x=len(dict1)\n",
    "print(\"length of dict1 is\",x)"
   ]
  },
  {
   "cell_type": "code",
   "execution_count": 8,
   "metadata": {},
   "outputs": [
    {
     "name": "stdout",
     "output_type": "stream",
     "text": [
      "Enter key and values:\n",
      "Enter done twice to stop\n",
      "Enter key:a\n",
      "Enter integer value:1\n",
      "Enter key:b\n",
      "Enter integer value:4\n",
      "Enter key:n\n",
      "Enter integer value:6\n",
      "Enter key:k\n",
      "Enter integer value:7\n",
      "Enter key:h\n",
      "Enter integer value:0\n",
      "Enter key:done\n",
      "Sum of the values in the dictionary is 18\n"
     ]
    }
   ],
   "source": [
    "#Sum all the items in a dictionary\n",
    "dict1={}\n",
    "print(\"Enter key and values:\")\n",
    "print('Enter done twice to stop')\n",
    "while True:\n",
    "    key=input('Enter key:')\n",
    "    if key=='done':\n",
    "        break\n",
    "    value=int(input('Enter integer value:'))\n",
    "    dict1[key]=value\n",
    "sum=0    \n",
    "for i in dict1:\n",
    "    sum=sum+dict1[i]\n",
    "print(\"Sum of the values in the dictionary is\",sum)"
   ]
  },
  {
   "cell_type": "code",
   "execution_count": 9,
   "metadata": {},
   "outputs": [
    {
     "name": "stdout",
     "output_type": "stream",
     "text": [
      "enter the key:a\n",
      "enter value:3\n",
      "enter the key:d\n",
      "enter value:5\n",
      "enter the key:g\n",
      "enter value:5\n",
      "enter the key:done\n",
      "after adding keys and values the dictionary is: {'a': '3', 'd': '5', 'g': '5'}\n"
     ]
    }
   ],
   "source": [
    "#Add keys/values in a dictionary(update dictionary)\n",
    "dict1={'a':1}\n",
    "while True:\n",
    "    key=input(\"enter the key:\")\n",
    "    if key==\"done\":\n",
    "        break\n",
    "    values=input(\"enter value:\")\n",
    "    dict1[key]=values\n",
    "print(\"after adding keys and values the dictionary is:\",dict1)"
   ]
  },
  {
   "cell_type": "code",
   "execution_count": null,
   "metadata": {},
   "outputs": [],
   "source": []
  }
 ],
 "metadata": {
  "kernelspec": {
   "display_name": "Python 3",
   "language": "python",
   "name": "python3"
  },
  "language_info": {
   "codemirror_mode": {
    "name": "ipython",
    "version": 3
   },
   "file_extension": ".py",
   "mimetype": "text/x-python",
   "name": "python",
   "nbconvert_exporter": "python",
   "pygments_lexer": "ipython3",
   "version": "3.8.3"
  }
 },
 "nbformat": 4,
 "nbformat_minor": 4
}
