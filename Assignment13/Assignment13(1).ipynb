{
 "cells": [
  {
   "cell_type": "code",
   "execution_count": 1,
   "metadata": {},
   "outputs": [
    {
     "name": "stdout",
     "output_type": "stream",
     "text": [
      "Enter list of  elements:\n",
      "Enter done to stop\n",
      "Enter element:9\n",
      "Enter element:5\n",
      "Enter element:7\n",
      "Enter element:3\n",
      "Enter element:2\n",
      "Enter element:done\n",
      "sum of list [9, 5, 7, 3, 2] is\n",
      " 26\n"
     ]
    }
   ],
   "source": [
    "#program to sum all the items in a list\n",
    "print(\"Enter list of  elements:\")\n",
    "print(\"Enter done to stop\")\n",
    "a=[]\n",
    "while True:\n",
    "    x=input(\"Enter element:\")\n",
    "    if x=='done':\n",
    "        break\n",
    "    x=int(x)\n",
    "    a.append(x)\n",
    "print('sum of list',a,'is\\n',sum(a))"
   ]
  },
  {
   "cell_type": "code",
   "execution_count": 2,
   "metadata": {},
   "outputs": [
    {
     "name": "stdout",
     "output_type": "stream",
     "text": [
      "Enter no of empty dictionaries:5\n",
      "[{}, {}, {}, {}, {}]\n"
     ]
    }
   ],
   "source": [
    "#program to create a list of empty dictionaries\n",
    "n=int(input(\"Enter no of empty dictionaries:\"))\n",
    "d={}\n",
    "a=[]\n",
    "for i in range(n):\n",
    "    a.append(d)\n",
    "print(a)"
   ]
  },
  {
   "cell_type": "code",
   "execution_count": 3,
   "metadata": {},
   "outputs": [
    {
     "name": "stdout",
     "output_type": "stream",
     "text": [
      "sita\n"
     ]
    }
   ],
   "source": [
    "#program to access dictionary keys element by index.\n",
    "d={'sita':1,'ram':2}\n",
    "print(list(d)[0])"
   ]
  },
  {
   "cell_type": "code",
   "execution_count": 7,
   "metadata": {},
   "outputs": [
    {
     "name": "stdout",
     "output_type": "stream",
     "text": [
      "Enter key and values:\n",
      "Enter done to stop\n",
      "Enter the key:a\n",
      "Enter value:1\n",
      "Enter the key:b\n",
      "Enter value:2\n",
      "Enter the key:c\n",
      "Enter value:3\n",
      "Enter the key:done\n",
      "Iterating through dictionary\n",
      "a 1\n",
      "b 2\n",
      "c 3\n"
     ]
    }
   ],
   "source": [
    "#program to iterate over dictionaries using for loops\n",
    "print(\"Enter key and values:\")\n",
    "print(\"Enter done to stop\")\n",
    "d={}\n",
    "while True:\n",
    "    key=input(\"Enter the key:\")\n",
    "    if key==\"done\":\n",
    "        break\n",
    "    values=input(\"Enter value:\")\n",
    "    d[key]=values\n",
    "print('Iterating through dictionary')\n",
    "for i in d:\n",
    "    print(i,d[i])"
   ]
  },
  {
   "cell_type": "code",
   "execution_count": 10,
   "metadata": {},
   "outputs": [
    {
     "name": "stdout",
     "output_type": "stream",
     "text": [
      "Enter key and values:\n",
      "Enter done to stop\n",
      "Enter the key:1\n",
      "Enter value3\n",
      "Enter the key:2\n",
      "Enter value4\n",
      "Enter the key:3\n",
      "Enter value5\n",
      "Enter the key:done\n",
      "Sum of items= 18\n"
     ]
    }
   ],
   "source": [
    "#program to sum all the items in a dictionary\n",
    "d={}\n",
    "print(\"Enter key and values:\")\n",
    "print(\"Enter done to stop\")\n",
    "while True:\n",
    "    key=input(\"Enter the key:\")\n",
    "    if key==\"done\":\n",
    "        break\n",
    "    key=int(key)\n",
    "    values=int(input(\"Enter value\"))\n",
    "    d[key]=values \n",
    "sum=0\n",
    "for i in d:\n",
    "    sum=sum+i+d[i]\n",
    "print(\"Sum of items=\",sum)"
   ]
  },
  {
   "cell_type": "code",
   "execution_count": 13,
   "metadata": {},
   "outputs": [
    {
     "name": "stdout",
     "output_type": "stream",
     "text": [
      "{1: 10, 2: 20, 3: 30, 4: 40, 5: 50, 6: 60}\n"
     ]
    }
   ],
   "source": [
    "#To concatenate following dictionaries to create a new one Sample Dictionary \n",
    "d1={1:10,2:20}\n",
    "d2={3:30,4:40}\n",
    "d3={5:50,6:60}\n",
    "d={}\n",
    "d.update(d1)\n",
    "d.update(d2)\n",
    "d.update(d3)\n",
    "print(d)"
   ]
  },
  {
   "cell_type": "code",
   "execution_count": 14,
   "metadata": {},
   "outputs": [
    {
     "name": "stdout",
     "output_type": "stream",
     "text": [
      "Enter elements to be added to tuple \n",
      "Enter done to stop\n",
      "Enter element:6\n",
      "Enter element:5\n",
      "Enter element:8\n",
      "Enter element:2\n",
      "Enter element:5\n",
      "Enter element:done\n",
      "(6, 5, 8, 2, 5)\n"
     ]
    }
   ],
   "source": [
    "#program to create a tuple\n",
    "print(\"Enter elements to be added to tuple \")\n",
    "print(\"Enter done to stop\")\n",
    "l=[]\n",
    "while True:\n",
    "    x=input(\"Enter element:\")\n",
    "    if x=='done':\n",
    "        break\n",
    "    x=int(x)\n",
    "    l.append(x)\n",
    "t=tuple(l)\n",
    "print(t)\n"
   ]
  },
  {
   "cell_type": "code",
   "execution_count": 15,
   "metadata": {},
   "outputs": [
    {
     "name": "stdout",
     "output_type": "stream",
     "text": [
      "Enter an integer:6\n",
      "Enter floating point number:3.6\n",
      "Enter string:diwi\n",
      "(6, 3.6, 'diwi')\n"
     ]
    }
   ],
   "source": [
    "#program to create a tuple with different data types\n",
    "Integer=int(input(\"Enter an integer:\"))\n",
    "floating=float(input(\"Enter floating point number:\"))\n",
    "string=input(\"Enter string:\")\n",
    "t=(Integer,floating,string)\n",
    "print(t)"
   ]
  },
  {
   "cell_type": "code",
   "execution_count": 16,
   "metadata": {},
   "outputs": [
    {
     "name": "stdout",
     "output_type": "stream",
     "text": [
      "DiwakarReddy\n"
     ]
    }
   ],
   "source": [
    "#program to convert a tuple to a string\n",
    "t=('Diwakar','Reddy')\n",
    "s=''.join(t)\n",
    "print(s)"
   ]
  },
  {
   "cell_type": "code",
   "execution_count": 18,
   "metadata": {},
   "outputs": [
    {
     "name": "stdout",
     "output_type": "stream",
     "text": [
      "('abcd', 'efgh')\n"
     ]
    }
   ],
   "source": [
    "#program to slice a tuple\n",
    "t=('abcd','efgh','ijkl','fdghg')\n",
    "print(t[0:2])"
   ]
  },
  {
   "cell_type": "code",
   "execution_count": 19,
   "metadata": {},
   "outputs": [
    {
     "name": "stdout",
     "output_type": "stream",
     "text": [
      "4\n"
     ]
    }
   ],
   "source": [
    "#program to find the length of a tuple\n",
    "t=('abcd','efgh','ijkl','fdghg')\n",
    "print(len(t))"
   ]
  },
  {
   "cell_type": "code",
   "execution_count": 20,
   "metadata": {},
   "outputs": [
    {
     "name": "stdout",
     "output_type": "stream",
     "text": [
      "{1: 10, 2: 20, 3: 30, 4: 40, 5: 50, 6: 60}\n"
     ]
    }
   ],
   "source": [
    "#program to convert a tuple to a dictionary\n",
    "t=((1, 10), (2, 20), (3, 30), (4, 40), (5, 50), (6, 60))\n",
    "d=dict(t)\n",
    "print(d)"
   ]
  },
  {
   "cell_type": "code",
   "execution_count": 21,
   "metadata": {},
   "outputs": [
    {
     "name": "stdout",
     "output_type": "stream",
     "text": [
      "('ef', 'cd', 'ab')\n"
     ]
    }
   ],
   "source": [
    "#program to reverse a tuple\n",
    "t=('ab','cd','ef')\n",
    "t1=t[::-1]\n",
    "print(t1)"
   ]
  },
  {
   "cell_type": "code",
   "execution_count": 27,
   "metadata": {},
   "outputs": [
    {
     "name": "stdout",
     "output_type": "stream",
     "text": [
      "{1: 10, 2: 20, 3: 30, 4: 40, 5: 50, 6: 60}\n"
     ]
    }
   ],
   "source": [
    "#program to convert a list of tuples into a dictionary\n",
    "l=[(1, 10), (2, 20), (3, 30), (4, 40), (5, 50), (6, 60)]\n",
    "d=dict(l)\n",
    "print(d)"
   ]
  },
  {
   "cell_type": "code",
   "execution_count": 28,
   "metadata": {},
   "outputs": [
    {
     "name": "stdout",
     "output_type": "stream",
     "text": [
      "(1, 3, 5, 7, 9, 11, 13, 15, 17)\n"
     ]
    }
   ],
   "source": [
    "#program to convert a list to a tuple.\n",
    "l=[1,3,5,7,9,11,13,15,17]\n",
    "t=tuple(l)\n",
    "print(t)"
   ]
  },
  {
   "cell_type": "code",
   "execution_count": null,
   "metadata": {},
   "outputs": [],
   "source": []
  }
 ],
 "metadata": {
  "kernelspec": {
   "display_name": "Python 3",
   "language": "python",
   "name": "python3"
  },
  "language_info": {
   "codemirror_mode": {
    "name": "ipython",
    "version": 3
   },
   "file_extension": ".py",
   "mimetype": "text/x-python",
   "name": "python",
   "nbconvert_exporter": "python",
   "pygments_lexer": "ipython3",
   "version": "3.8.3"
  }
 },
 "nbformat": 4,
 "nbformat_minor": 4
}
