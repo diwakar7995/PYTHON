{
 "cells": [
  {
   "cell_type": "code",
   "execution_count": 1,
   "metadata": {},
   "outputs": [
    {
     "name": "stdout",
     "output_type": "stream",
     "text": [
      "diwakar bfdmhnvn\n",
      "lfkjklv\n",
      "kfnl,ml;v,x\n",
      "kmvkflnvkf\n",
      "nkfljfds;l\n"
     ]
    }
   ],
   "source": [
    "#1\n",
    "fh=open(r\"C:\\Users\\diwak\\Desktop\\JupyterDemo\\text.txt\")\n",
    "print(fh.read())"
   ]
  },
  {
   "cell_type": "code",
   "execution_count": 3,
   "metadata": {},
   "outputs": [
    {
     "name": "stdout",
     "output_type": "stream",
     "text": [
      "Ener no of lines to be read:3\n",
      "diwakar bfdmhnvn\n",
      "\n",
      "lfkjklv\n",
      "\n",
      "kfnl,ml;v,x\n",
      "\n"
     ]
    }
   ],
   "source": [
    "#2\n",
    "fh=open(r\"C:\\Users\\diwak\\Desktop\\JupyterDemo\\text.txt\")\n",
    "n=int(input(\"Ener no of lines to be read:\"))\n",
    "for i in range(n):\n",
    "    print(fh.readline())"
   ]
  },
  {
   "cell_type": "code",
   "execution_count": 5,
   "metadata": {},
   "outputs": [
    {
     "name": "stdout",
     "output_type": "stream",
     "text": [
      "Enter string to be appended:diwak\n",
      "diwakar bfdmhnvn\n",
      "lfkjklv\n",
      "kfnl,ml;v,x\n",
      "kmvkflnvkf\n",
      "nkfljfds;ldiwak\n"
     ]
    }
   ],
   "source": [
    "#3\n",
    "fh=open(r\"C:\\Users\\diwak\\Desktop\\JupyterDemo\\text.txt\",\"a\")\n",
    "inpp=input(\"Enter string to be appended:\")\n",
    "fh.write(inpp)\n",
    "fh.close()\n",
    "fh=open(r\"C:\\Users\\diwak\\Desktop\\JupyterDemo\\text.txt\",\"r\")\n",
    "print(fh.read())"
   ]
  },
  {
   "cell_type": "code",
   "execution_count": 6,
   "metadata": {},
   "outputs": [
    {
     "name": "stdout",
     "output_type": "stream",
     "text": [
      "enter n value:4\n",
      "['lfkjklv\\n', 'kfnl,ml;v,x\\n', 'kmvkflnvkf\\n', 'nkfljfds;ldiwak']\n"
     ]
    }
   ],
   "source": [
    "#4\n",
    "fh=open(r\"C:\\Users\\diwak\\Desktop\\JupyterDemo\\text.txt\",\"r\")\n",
    "l1=fh.readlines()\n",
    "m=len(l1)\n",
    "n=int(input(\"enter n value:\"))\n",
    "print(l1[(m-n):])\n"
   ]
  },
  {
   "cell_type": "code",
   "execution_count": 7,
   "metadata": {},
   "outputs": [
    {
     "name": "stdout",
     "output_type": "stream",
     "text": [
      "diwakar bfdmhnvn\n",
      "lfkjklv\n",
      "kfnl,ml;v,x\n",
      "kmvkflnvkf\n",
      "nkfljfds;ldiwak\n"
     ]
    }
   ],
   "source": [
    "#5\n",
    "fh=open(r\"C:\\Users\\diwak\\Desktop\\JupyterDemo\\text.txt\",\"r\")\n",
    "str=''\n",
    "for i in fh:\n",
    "    str=str+i\n",
    "print(str)"
   ]
  },
  {
   "cell_type": "code",
   "execution_count": 8,
   "metadata": {},
   "outputs": [
    {
     "name": "stdout",
     "output_type": "stream",
     "text": [
      "['diwakar bfdmhnvn\\n', 'lfkjklv\\n', 'kfnl,ml;v,x\\n', 'kmvkflnvkf\\n', 'nkfljfds;ldiwak']\n"
     ]
    }
   ],
   "source": [
    "#6\n",
    "fh=open(r\"C:\\Users\\diwak\\Desktop\\JupyterDemo\\text.txt\",\"r\")\n",
    "l1=[]\n",
    "for i in fh:\n",
    "    l1.append(i)\n",
    "print(l1)"
   ]
  },
  {
   "cell_type": "code",
   "execution_count": 9,
   "metadata": {},
   "outputs": [
    {
     "name": "stdout",
     "output_type": "stream",
     "text": [
      "5\n"
     ]
    }
   ],
   "source": [
    "#7\n",
    "fh=open(r\"C:\\Users\\diwak\\Desktop\\JupyterDemo\\text.txt\",\"r\")\n",
    "l1=[]\n",
    "for i in fh:\n",
    "    l1.append(i)\n",
    "print(len(l1))"
   ]
  },
  {
   "cell_type": "code",
   "execution_count": 10,
   "metadata": {},
   "outputs": [
    {
     "name": "stdout",
     "output_type": "stream",
     "text": [
      "63\n"
     ]
    }
   ],
   "source": [
    "#9\n",
    "fh=open(r\"C:\\Users\\diwak\\Desktop\\JupyterDemo\\text.txt\",\"r\")\n",
    "str=fh.read()\n",
    "print(len(str))"
   ]
  },
  {
   "cell_type": "code",
   "execution_count": 12,
   "metadata": {},
   "outputs": [
    {
     "name": "stdout",
     "output_type": "stream",
     "text": [
      "diwakar bfdmhnvn\n",
      "lfkjklv\n",
      "kfnl,ml;v,x\n",
      "kmvkflnvkf\n",
      "nkfljfds;ldiwakrrrrrrrrrrrrrrrrrrrrrrrr\n",
      "rrrrrrrrrrrrrrrrrrrrrrrrrrrrrrrrrrrrrrr\n"
     ]
    }
   ],
   "source": [
    "#10\n",
    "fh=open(r\"C:\\Users\\diwak\\Desktop\\JupyterDemo\\text.txt\",\"a\")\n",
    "fi=open(r\"C:\\Users\\diwak\\Desktop\\JupyterDemo\\text - Copy.txt\",\"r\")\n",
    "for i in fi:\n",
    "    fh.write(i)\n",
    "fh.close()\n",
    "fh=open(r\"C:\\Users\\diwak\\Desktop\\JupyterDemo\\text.txt\",\"r\")\n",
    "print(fh.read())"
   ]
  },
  {
   "cell_type": "code",
   "execution_count": 13,
   "metadata": {},
   "outputs": [
    {
     "name": "stdout",
     "output_type": "stream",
     "text": [
      "Enter file namehjgksfjoeawlskfa\n",
      "file not found\n"
     ]
    }
   ],
   "source": [
    "#try catch\n",
    "try:\n",
    "    f_name=input(\"Enter file name\")\n",
    "    fh=open(f_name,'r')\n",
    "    count=0\n",
    "    for line in fh:\n",
    "        if line.startswith('from:'):\n",
    "            count=count+1\n",
    "    print(count,\"lines are starting with from:\")\n",
    "except:\n",
    "    print(\"file not found\")\n",
    "    exit()"
   ]
  },
  {
   "cell_type": "code",
   "execution_count": 1,
   "metadata": {},
   "outputs": [
    {
     "name": "stdout",
     "output_type": "stream",
     "text": [
      "Enter file nameC:\\Users\\diwak\\Desktop\\JupyterDemo\\from.txt\n",
      "0 lines are starting with from:\n"
     ]
    }
   ],
   "source": [
    "#try catch\n",
    "try:\n",
    "    f_name=input(\"Enter file name\")\n",
    "    fh=open(f_name,'r')\n",
    "    count=0\n",
    "    for line in fh:\n",
    "        if line.startswith('from:'):\n",
    "            count=count+1\n",
    "    print(count,\"lines are starting with from:\")\n",
    "except:\n",
    "    print(\"file not found\")\n",
    "    exit()"
   ]
  },
  {
   "cell_type": "code",
   "execution_count": null,
   "metadata": {},
   "outputs": [],
   "source": []
  }
 ],
 "metadata": {
  "kernelspec": {
   "display_name": "Python 3",
   "language": "python",
   "name": "python3"
  },
  "language_info": {
   "codemirror_mode": {
    "name": "ipython",
    "version": 3
   },
   "file_extension": ".py",
   "mimetype": "text/x-python",
   "name": "python",
   "nbconvert_exporter": "python",
   "pygments_lexer": "ipython3",
   "version": "3.8.3"
  }
 },
 "nbformat": 4,
 "nbformat_minor": 4
}
