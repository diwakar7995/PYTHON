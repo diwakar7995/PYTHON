{
 "cells": [
  {
   "cell_type": "code",
   "execution_count": 1,
   "metadata": {},
   "outputs": [
    {
     "name": "stdout",
     "output_type": "stream",
     "text": [
      "Enter The First Number=34\n",
      "Enter The Second Number=68\n",
      "GCD= 34\n"
     ]
    }
   ],
   "source": [
    "m=int(input(\"Enter The First Number=\"))\n",
    "n=int(input(\"Enter The Second Number=\"))\n",
    "if m>n:\n",
    "    small=n\n",
    "else:\n",
    "    small=m\n",
    "for i in range(1,small+1):\n",
    "    if(m%i==0 and n%i==0):\n",
    "        gcd=i\n",
    "print(\"GCD=\",gcd)"
   ]
  },
  {
   "cell_type": "code",
   "execution_count": null,
   "metadata": {},
   "outputs": [],
   "source": []
  }
 ],
 "metadata": {
  "kernelspec": {
   "display_name": "Python 3",
   "language": "python",
   "name": "python3"
  },
  "language_info": {
   "codemirror_mode": {
    "name": "ipython",
    "version": 3
   },
   "file_extension": ".py",
   "mimetype": "text/x-python",
   "name": "python",
   "nbconvert_exporter": "python",
   "pygments_lexer": "ipython3",
   "version": "3.8.3"
  }
 },
 "nbformat": 4,
 "nbformat_minor": 4
}
