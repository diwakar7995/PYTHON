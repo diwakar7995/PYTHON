{
 "cells": [
  {
   "cell_type": "code",
   "execution_count": 1,
   "metadata": {},
   "outputs": [
    {
     "name": "stdout",
     "output_type": "stream",
     "text": [
      "Enter The nth Number=9\n",
      "Number Even Numbers In The Series Are 4\n",
      "Number Odd Numbers In The Series Are 5\n"
     ]
    }
   ],
   "source": [
    "Even,Odd=0,0\n",
    "Num=int(input(\"Enter The nth Number=\"))\n",
    "for i in range(1,Num+1):\n",
    "    if(i%2==0):\n",
    "        Even=Even+1\n",
    "    else:\n",
    "        Odd=Odd+1\n",
    "print(\"Number Even Numbers In The Series Are\",Even)\n",
    "print(\"Number Odd Numbers In The Series Are\",Odd)"
   ]
  },
  {
   "cell_type": "code",
   "execution_count": null,
   "metadata": {},
   "outputs": [],
   "source": []
  }
 ],
 "metadata": {
  "kernelspec": {
   "display_name": "Python 3",
   "language": "python",
   "name": "python3"
  },
  "language_info": {
   "codemirror_mode": {
    "name": "ipython",
    "version": 3
   },
   "file_extension": ".py",
   "mimetype": "text/x-python",
   "name": "python",
   "nbconvert_exporter": "python",
   "pygments_lexer": "ipython3",
   "version": "3.8.3"
  }
 },
 "nbformat": 4,
 "nbformat_minor": 4
}
