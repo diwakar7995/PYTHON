{
 "cells": [
  {
   "cell_type": "code",
   "execution_count": 1,
   "metadata": {},
   "outputs": [
    {
     "name": "stdout",
     "output_type": "stream",
     "text": [
      "Enter 10 Numbers=\n",
      "2\n",
      "5\n",
      "8\n",
      "6\n",
      "7\n",
      "8\n",
      "6\n",
      "6\n",
      "8\n",
      "Average Of 10 Numbers= 5.6\n"
     ]
    }
   ],
   "source": [
    "Sum=0\n",
    "print(\"Enter 10 Numbers=\") \n",
    "for i in range(1,10):\n",
    "    Num=float(input())\n",
    "    Sum=Num+Sum\n",
    "Avg=Sum/10\n",
    "print(\"Average Of 10 Numbers=\",Avg)"
   ]
  },
  {
   "cell_type": "code",
   "execution_count": null,
   "metadata": {},
   "outputs": [],
   "source": []
  }
 ],
 "metadata": {
  "kernelspec": {
   "display_name": "Python 3",
   "language": "python",
   "name": "python3"
  },
  "language_info": {
   "codemirror_mode": {
    "name": "ipython",
    "version": 3
   },
   "file_extension": ".py",
   "mimetype": "text/x-python",
   "name": "python",
   "nbconvert_exporter": "python",
   "pygments_lexer": "ipython3",
   "version": "3.8.3"
  }
 },
 "nbformat": 4,
 "nbformat_minor": 4
}
