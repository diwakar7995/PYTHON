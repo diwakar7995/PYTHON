{
 "cells": [
  {
   "cell_type": "code",
   "execution_count": 1,
   "metadata": {},
   "outputs": [
    {
     "name": "stdout",
     "output_type": "stream",
     "text": [
      "Enter The Number=6\n",
      "6 Is Not A Prime Number\n"
     ]
    }
   ],
   "source": [
    "a=int(input(\"Enter The Number=\"))\n",
    "if a>1:\n",
    "    for i in range(2,a):\n",
    "        if(a%i==0):\n",
    "            print(a,\"Is Not A Prime Number\")\n",
    "            break\n",
    "    else:\n",
    "        print(a,\"Is A Prime Number\")\n",
    "else:\n",
    "    print(a,\"Is Not A Prime Number\")"
   ]
  },
  {
   "cell_type": "code",
   "execution_count": null,
   "metadata": {},
   "outputs": [],
   "source": []
  }
 ],
 "metadata": {
  "kernelspec": {
   "display_name": "Python 3",
   "language": "python",
   "name": "python3"
  },
  "language_info": {
   "codemirror_mode": {
    "name": "ipython",
    "version": 3
   },
   "file_extension": ".py",
   "mimetype": "text/x-python",
   "name": "python",
   "nbconvert_exporter": "python",
   "pygments_lexer": "ipython3",
   "version": "3.8.3"
  }
 },
 "nbformat": 4,
 "nbformat_minor": 4
}
