{
 "cells": [
  {
   "cell_type": "code",
   "execution_count": 1,
   "metadata": {},
   "outputs": [
    {
     "name": "stdout",
     "output_type": "stream",
     "text": [
      "Enter The Value Of a=6\n",
      "Enter The Value Of b=5\n",
      "Enter The Value Of c=9\n",
      "The Roots Are Imaginary\n"
     ]
    }
   ],
   "source": [
    "import math\n",
    "a=int(input(\"Enter The Value Of a=\"))\n",
    "b=int(input(\"Enter The Value Of b=\"))\n",
    "c=int(input(\"Enter The Value Of c=\"))\n",
    "if(a!=0):\n",
    "    d=(b*b)-(4*a*c)\n",
    "    if d==0:\n",
    "        x1,x2=-b/(2*a),-b/(2*a)\n",
    "        print(\"The Roots Are Real x1=\",x1,\" x2=\",x2)\n",
    "    elif d>0:\n",
    "        x1,x2=(-b+math.sqrt(d))/(2*a),(-b -math.sqrt(d))/(2*a)\n",
    "        print(\"The Roots Are Different x1=\",x1,\" x2=\",x2)\n",
    "    else:\n",
    "        print(\"The Roots Are Imaginary\")\n",
    "else:\n",
    "    print(\"Its A Linear Equation\")"
   ]
  },
  {
   "cell_type": "code",
   "execution_count": null,
   "metadata": {},
   "outputs": [],
   "source": []
  }
 ],
 "metadata": {
  "kernelspec": {
   "display_name": "Python 3",
   "language": "python",
   "name": "python3"
  },
  "language_info": {
   "codemirror_mode": {
    "name": "ipython",
    "version": 3
   },
   "file_extension": ".py",
   "mimetype": "text/x-python",
   "name": "python",
   "nbconvert_exporter": "python",
   "pygments_lexer": "ipython3",
   "version": "3.8.3"
  }
 },
 "nbformat": 4,
 "nbformat_minor": 4
}
