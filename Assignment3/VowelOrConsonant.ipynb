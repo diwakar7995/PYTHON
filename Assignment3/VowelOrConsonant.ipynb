{
 "cells": [
  {
   "cell_type": "code",
   "execution_count": 1,
   "metadata": {},
   "outputs": [
    {
     "name": "stdout",
     "output_type": "stream",
     "text": [
      "Enter the Character=o\n",
      "o Is a Vowel\n"
     ]
    }
   ],
   "source": [
    "char=(input(\"Enter the Character=\"))\n",
    "if (char=='a')or(char=='e')or(char=='i')or(char=='o')or(char=='u'):\n",
    "    print(char,\"Is a Vowel\")\n",
    "else:\n",
    "    print(char,\"Is a Consonant\")"
   ]
  },
  {
   "cell_type": "code",
   "execution_count": null,
   "metadata": {},
   "outputs": [],
   "source": []
  }
 ],
 "metadata": {
  "kernelspec": {
   "display_name": "Python 3",
   "language": "python",
   "name": "python3"
  },
  "language_info": {
   "codemirror_mode": {
    "name": "ipython",
    "version": 3
   },
   "file_extension": ".py",
   "mimetype": "text/x-python",
   "name": "python",
   "nbconvert_exporter": "python",
   "pygments_lexer": "ipython3",
   "version": "3.8.3"
  }
 },
 "nbformat": 4,
 "nbformat_minor": 4
}
