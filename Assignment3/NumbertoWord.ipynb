{
 "cells": [
  {
   "cell_type": "code",
   "execution_count": 1,
   "metadata": {},
   "outputs": [
    {
     "name": "stdout",
     "output_type": "stream",
     "text": [
      "Enter A Number Between 1-5=5\n",
      "Five\n"
     ]
    }
   ],
   "source": [
    "a=int(input(\"Enter A Number Between 1-5=\"))\n",
    "if (a<=5 and a>0):\n",
    "    if a==1:\n",
    "        print(\"One\")\n",
    "    elif a==2:\n",
    "        print(\"Two\")\n",
    "    elif a==3:\n",
    "        print(\"Three\")\n",
    "    elif a==4:\n",
    "        print(\"four\")\n",
    "    elif a==5:\n",
    "        print(\"Five\")\n",
    "else:\n",
    "    print(\"Entered number as Not in Between 1-5\")"
   ]
  },
  {
   "cell_type": "code",
   "execution_count": null,
   "metadata": {},
   "outputs": [],
   "source": []
  }
 ],
 "metadata": {
  "kernelspec": {
   "display_name": "Python 3",
   "language": "python",
   "name": "python3"
  },
  "language_info": {
   "codemirror_mode": {
    "name": "ipython",
    "version": 3
   },
   "file_extension": ".py",
   "mimetype": "text/x-python",
   "name": "python",
   "nbconvert_exporter": "python",
   "pygments_lexer": "ipython3",
   "version": "3.8.3"
  }
 },
 "nbformat": 4,
 "nbformat_minor": 4
}
