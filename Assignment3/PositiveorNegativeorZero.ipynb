{
 "cells": [
  {
   "cell_type": "code",
   "execution_count": 1,
   "metadata": {},
   "outputs": [
    {
     "name": "stdout",
     "output_type": "stream",
     "text": [
      "Enter the number: 8\n",
      "8.0 Is a Positive Number\n"
     ]
    }
   ],
   "source": [
    "a=float(input(\"Enter the number: \"))\n",
    "if a>0:\n",
    "    print(a,\"Is a Positive Number\")\n",
    "elif a<0:\n",
    "    print(a,\"Is a Negative Number\")\n",
    "else:\n",
    "    print(a,\"Is a Zero\")"
   ]
  },
  {
   "cell_type": "code",
   "execution_count": null,
   "metadata": {},
   "outputs": [],
   "source": []
  }
 ],
 "metadata": {
  "kernelspec": {
   "display_name": "Python 3",
   "language": "python",
   "name": "python3"
  },
  "language_info": {
   "codemirror_mode": {
    "name": "ipython",
    "version": 3
   },
   "file_extension": ".py",
   "mimetype": "text/x-python",
   "name": "python",
   "nbconvert_exporter": "python",
   "pygments_lexer": "ipython3",
   "version": "3.8.3"
  }
 },
 "nbformat": 4,
 "nbformat_minor": 4
}
