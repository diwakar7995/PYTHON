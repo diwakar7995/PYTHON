{
 "cells": [
  {
   "cell_type": "code",
   "execution_count": 1,
   "metadata": {},
   "outputs": [
    {
     "name": "stdout",
     "output_type": "stream",
     "text": [
      "Count Of String Is 7\n"
     ]
    }
   ],
   "source": [
    "#CountString\n",
    "Str=\"Diwakar\"\n",
    "count=0\n",
    "for i in Str:\n",
    "    count=count+1\n",
    "print(\"Count Of String Is\",count)"
   ]
  },
  {
   "cell_type": "code",
   "execution_count": 3,
   "metadata": {},
   "outputs": [
    {
     "name": "stdout",
     "output_type": "stream",
     "text": [
      "3\n"
     ]
    }
   ],
   "source": [
    "#CountSubstring\n",
    "String=\"This is i want is\"\n",
    "print(String.count(\"is\"))"
   ]
  },
  {
   "cell_type": "code",
   "execution_count": 5,
   "metadata": {},
   "outputs": [
    {
     "name": "stdout",
     "output_type": "stream",
     "text": [
      "Diwaar\n"
     ]
    }
   ],
   "source": [
    "#DeleteCharacter in String\n",
    "String=\"Diwakar\"\n",
    "print(String.replace(\"k\",\"\"))"
   ]
  },
  {
   "cell_type": "code",
   "execution_count": 6,
   "metadata": {},
   "outputs": [
    {
     "name": "stdout",
     "output_type": "stream",
     "text": [
      "diwakar\n",
      "\n",
      "diwakar\n"
     ]
    }
   ],
   "source": [
    "#Remove Newline\n",
    "String=\"diwakar\\n\"\n",
    "print(String)\n",
    "String_New=String.rstrip(\"\\n\")\n",
    "print(String_New)"
   ]
  },
  {
   "cell_type": "code",
   "execution_count": 7,
   "metadata": {},
   "outputs": [
    {
     "name": "stdout",
     "output_type": "stream",
     "text": [
      "The String Length= 11\n"
     ]
    }
   ],
   "source": [
    "#String Length\n",
    "String=\"iam diwakar\"\n",
    "print(\"The String Length=\",len(String))"
   ]
  },
  {
   "cell_type": "code",
   "execution_count": 9,
   "metadata": {},
   "outputs": [
    {
     "name": "stdout",
     "output_type": "stream",
     "text": [
      "['iam', 'diwakar']\n"
     ]
    }
   ],
   "source": [
    "#String List\n",
    "String=\"iam diwakar\"\n",
    "List=list(String.split(\" \"))\n",
    "print(List)"
   ]
  },
  {
   "cell_type": "code",
   "execution_count": 10,
   "metadata": {},
   "outputs": [
    {
     "name": "stdout",
     "output_type": "stream",
     "text": [
      "Enter THe String=diwakar\n",
      "d\n",
      "i\n",
      "w\n",
      "a\n",
      "k\n",
      "a\n",
      "r\n"
     ]
    }
   ],
   "source": [
    "#String Print Characters\n",
    "String=input(\"Enter THe String=\")\n",
    "for i in String:\n",
    "    print(i)"
   ]
  },
  {
   "cell_type": "code",
   "execution_count": 11,
   "metadata": {},
   "outputs": [
    {
     "name": "stdout",
     "output_type": "stream",
     "text": [
      "Enter The String=DIWAkar\n",
      "DIWAKAR\n",
      "diwakar\n"
     ]
    }
   ],
   "source": [
    "#String Upper Lower\n",
    "String=input(\"Enter The String=\")\n",
    "print(String.upper())\n",
    "print(String.lower())"
   ]
  },
  {
   "cell_type": "code",
   "execution_count": 12,
   "metadata": {},
   "outputs": [
    {
     "name": "stdout",
     "output_type": "stream",
     "text": [
      "arw Hoe\n"
     ]
    }
   ],
   "source": [
    "#Swap First Two Characters\n",
    "String1=\"How\"\n",
    "String2=\"are\"\n",
    "New_1=String2[:2]+String1[2:]\n",
    "New_2=String1[:2]+String2[2:]\n",
    "print(New_1,New_2)"
   ]
  },
  {
   "cell_type": "code",
   "execution_count": 13,
   "metadata": {},
   "outputs": [
    {
     "name": "stdout",
     "output_type": "stream",
     "text": [
      "Length Of String refrigerator= 12\n"
     ]
    }
   ],
   "source": [
    "#Length of refrigerator\n",
    "String=\"refrigerator\"\n",
    "count=0\n",
    "for i in String:\n",
    "    count=count+1\n",
    "print(\"Length Of String refrigerator=\",count)"
   ]
  },
  {
   "cell_type": "code",
   "execution_count": null,
   "metadata": {},
   "outputs": [],
   "source": []
  }
 ],
 "metadata": {
  "kernelspec": {
   "display_name": "Python 3",
   "language": "python",
   "name": "python3"
  },
  "language_info": {
   "codemirror_mode": {
    "name": "ipython",
    "version": 3
   },
   "file_extension": ".py",
   "mimetype": "text/x-python",
   "name": "python",
   "nbconvert_exporter": "python",
   "pygments_lexer": "ipython3",
   "version": "3.8.3"
  }
 },
 "nbformat": 4,
 "nbformat_minor": 4
}
