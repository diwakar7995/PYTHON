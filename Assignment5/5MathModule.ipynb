{
 "cells": [
  {
   "cell_type": "code",
   "execution_count": 3,
   "metadata": {},
   "outputs": [
    {
     "name": "stdout",
     "output_type": "stream",
     "text": [
      "Sin60= -0.3048106211022167\n",
      "cos(pi) -1.0\n",
      "Tan90= -1.995200412208242\n",
      "Sin(0.8660254037844386)= 0.7617599814162892\n",
      "5^8= 13\n",
      "Square root of 400= 20.0\n",
      "5^e= 7\n",
      "The Of Log(1024)= 10.0\n",
      "The Of Log(1024)= 3.0102999566398116\n",
      "Floor(23.56)= 23 \n",
      "Ceiling(23.56)= 24\n"
     ]
    }
   ],
   "source": [
    "import math\n",
    "print(\"Sin60=\",math.sin(60))\n",
    "print(\"cos(pi)\",math.cos(math.pi))\n",
    "print(\"Tan90=\",math.tan(90))\n",
    "print(\"Sin(0.8660254037844386)=\",math.sin(0.8660254037844386))\n",
    "print(\"5^8=\",5^8)\n",
    "print(\"Square root of 400=\",math.sqrt(400))\n",
    "print(\"5^e=\",5^int(math.e))\n",
    "print(\"The Of Log(1024)=\",math.log(1024,2))\n",
    "print(\"The Of Log(1024)=\",math.log(1024,10))\n",
    "print(\"Floor(23.56)=\",math.floor(23.56),\"\\nCeiling(23.56)=\",math.ceil(23.56))"
   ]
  },
  {
   "cell_type": "code",
   "execution_count": null,
   "metadata": {},
   "outputs": [],
   "source": []
  }
 ],
 "metadata": {
  "kernelspec": {
   "display_name": "Python 3",
   "language": "python",
   "name": "python3"
  },
  "language_info": {
   "codemirror_mode": {
    "name": "ipython",
    "version": 3
   },
   "file_extension": ".py",
   "mimetype": "text/x-python",
   "name": "python",
   "nbconvert_exporter": "python",
   "pygments_lexer": "ipython3",
   "version": "3.8.3"
  }
 },
 "nbformat": 4,
 "nbformat_minor": 4
}
