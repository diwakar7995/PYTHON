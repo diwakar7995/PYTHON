{
 "cells": [
  {
   "cell_type": "code",
   "execution_count": 1,
   "metadata": {},
   "outputs": [
    {
     "name": "stdout",
     "output_type": "stream",
     "text": [
      "Enter the Number Of Sides=5\n",
      "Enter the lenght of the side=12\n",
      "Area Of Polygon is 247.74874568481127\n"
     ]
    }
   ],
   "source": [
    "from math import tan, pi\n",
    "n=int(input(\"Enter the Number Of Sides=\"))\n",
    "side=float(input(\"Enter the lenght of the side=\"))\n",
    "area=n*(side**2)/(4*tan(pi/n))\n",
    "print(\"Area Of Polygon is\",area)"
   ]
  },
  {
   "cell_type": "code",
   "execution_count": null,
   "metadata": {},
   "outputs": [],
   "source": []
  }
 ],
 "metadata": {
  "kernelspec": {
   "display_name": "Python 3",
   "language": "python",
   "name": "python3"
  },
  "language_info": {
   "codemirror_mode": {
    "name": "ipython",
    "version": 3
   },
   "file_extension": ".py",
   "mimetype": "text/x-python",
   "name": "python",
   "nbconvert_exporter": "python",
   "pygments_lexer": "ipython3",
   "version": "3.8.3"
  }
 },
 "nbformat": 4,
 "nbformat_minor": 4
}
