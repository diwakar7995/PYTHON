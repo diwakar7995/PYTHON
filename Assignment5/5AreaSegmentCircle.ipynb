{
 "cells": [
  {
   "cell_type": "code",
   "execution_count": 1,
   "metadata": {},
   "outputs": [
    {
     "name": "stdout",
     "output_type": "stream",
     "text": [
      "Enter the Radius Of the Circle=6\n",
      "Enter the angle of the Circle(to 180)120\n",
      "Area of Segment Of the Circle= 27.248110527255857\n"
     ]
    }
   ],
   "source": [
    "from math import sin,pi\n",
    "r=float(input(\"Enter the Radius Of the Circle=\"))\n",
    "a=float(input(\"Enter the angle of the Circle(to 180)\"))\n",
    "A=((r*r)/2)*((pi/180)*a-sin(a))\n",
    "print(\"Area of Segment Of the Circle=\",A)"
   ]
  },
  {
   "cell_type": "code",
   "execution_count": null,
   "metadata": {},
   "outputs": [],
   "source": []
  }
 ],
 "metadata": {
  "kernelspec": {
   "display_name": "Python 3",
   "language": "python",
   "name": "python3"
  },
  "language_info": {
   "codemirror_mode": {
    "name": "ipython",
    "version": 3
   },
   "file_extension": ".py",
   "mimetype": "text/x-python",
   "name": "python",
   "nbconvert_exporter": "python",
   "pygments_lexer": "ipython3",
   "version": "3.8.3"
  }
 },
 "nbformat": 4,
 "nbformat_minor": 4
}
